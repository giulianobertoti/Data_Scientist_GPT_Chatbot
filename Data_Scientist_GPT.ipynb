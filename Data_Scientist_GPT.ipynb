{
  "nbformat": 4,
  "nbformat_minor": 0,
  "metadata": {
    "colab": {
      "provenance": [],
      "authorship_tag": "ABX9TyPJyYfNEfX+xopgDncL71Mb",
      "include_colab_link": true
    },
    "kernelspec": {
      "name": "python3",
      "display_name": "Python 3"
    },
    "language_info": {
      "name": "python"
    }
  },
  "cells": [
    {
      "cell_type": "markdown",
      "metadata": {
        "id": "view-in-github",
        "colab_type": "text"
      },
      "source": [
        "<a href=\"https://colab.research.google.com/github/giulianobertoti/Data_Scientist_GPT_Chatbot/blob/main/Data_Scientist_GPT.ipynb\" target=\"_parent\"><img src=\"https://colab.research.google.com/assets/colab-badge.svg\" alt=\"Open In Colab\"/></a>"
      ]
    },
    {
      "cell_type": "code",
      "execution_count": null,
      "metadata": {
        "id": "zoy47Tn4B8uJ"
      },
      "outputs": [],
      "source": [
        "! pip install pytelegrambotapi"
      ]
    },
    {
      "cell_type": "code",
      "source": [
        "import telebot"
      ],
      "metadata": {
        "id": "OKmxyXraDURS"
      },
      "execution_count": null,
      "outputs": []
    },
    {
      "cell_type": "code",
      "source": [
        "API_TOKEN = ''\n",
        "bot = telebot.TeleBot(API_TOKEN)"
      ],
      "metadata": {
        "id": "e0IUTtK6DYKL"
      },
      "execution_count": null,
      "outputs": []
    },
    {
      "cell_type": "code",
      "source": [
        "@bot.message_handler(func=lambda message: True)\n",
        "def reply_hi(message):\n",
        "  bot.reply_to(message, 'hi')"
      ],
      "metadata": {
        "id": "ZX09FGHxDdhN"
      },
      "execution_count": null,
      "outputs": []
    },
    {
      "cell_type": "code",
      "source": [
        "bot.polling()"
      ],
      "metadata": {
        "id": "hKqxjuzADiiN"
      },
      "execution_count": null,
      "outputs": []
    },
    {
      "cell_type": "code",
      "source": [
        "#######################"
      ],
      "metadata": {
        "id": "9fFGfifVFScA"
      },
      "execution_count": null,
      "outputs": []
    },
    {
      "cell_type": "code",
      "source": [
        "!pip install pandas pandasai"
      ],
      "metadata": {
        "id": "asoray2rF-4C"
      },
      "execution_count": null,
      "outputs": []
    },
    {
      "cell_type": "code",
      "source": [
        "import pandas as pd\n",
        "from pandasai import PandasAI"
      ],
      "metadata": {
        "id": "aoogSYorF_Hj"
      },
      "execution_count": null,
      "outputs": []
    },
    {
      "cell_type": "code",
      "source": [
        "from pandasai.llm.starcoder import Starcoder"
      ],
      "metadata": {
        "id": "0Iwme5pHF_YG"
      },
      "execution_count": null,
      "outputs": []
    },
    {
      "cell_type": "code",
      "source": [
        "llm = Starcoder(api_token=\"\")"
      ],
      "metadata": {
        "id": "pBGnD-GxF_pA"
      },
      "execution_count": null,
      "outputs": []
    },
    {
      "cell_type": "code",
      "source": [
        "df = pd.read_csv(\"https://raw.githubusercontent.com/inteligentni/Class-05-Feature-engineering/master/The%20Beatles%20songs%20dataset%2C%20v1%2C%20no%20NAs.csv\")"
      ],
      "metadata": {
        "id": "8PAX09LGHBLo"
      },
      "execution_count": null,
      "outputs": []
    },
    {
      "cell_type": "code",
      "source": [
        "pandas_ai = PandasAI(llm, conversational=False)"
      ],
      "metadata": {
        "id": "KYBKlB47HBPS"
      },
      "execution_count": null,
      "outputs": []
    },
    {
      "cell_type": "code",
      "source": [
        "res = pandas_ai.run(df, prompt='what songs belong to abbey road album')"
      ],
      "metadata": {
        "id": "JIIjGbNdGAay"
      },
      "execution_count": null,
      "outputs": []
    },
    {
      "cell_type": "code",
      "source": [
        "res['Title'].to_string(index=False)"
      ],
      "metadata": {
        "colab": {
          "base_uri": "https://localhost:8080/",
          "height": 331
        },
        "id": "aY0kcpYJbKzH",
        "outputId": "424df9ba-9f76-474b-9914-73e906333ec5"
      },
      "execution_count": null,
      "outputs": [
        {
          "output_type": "execute_result",
          "data": {
            "text/plain": [
              "\"                                Because\\n                      Carry That Weight\\n                          Come Together\\n                        Golden Slumbers\\n                            Her Majesty\\n                     Here Comes the Sun\\n            I Want You (She's So Heavy)\\n                Maxwell's Silver Hammer\\n                       Mean Mr. Mustard\\n                       Octopus's Garden\\n                            Oh! Darling\\n                          Polythene Pam\\nShe Came in Through the Bathroom Window\\n                              Something\\n                               Sun King\\n                                The End\\n           You Never Give Me Your Money\""
            ],
            "application/vnd.google.colaboratory.intrinsic+json": {
              "type": "string"
            }
          },
          "metadata": {},
          "execution_count": 11
        }
      ]
    },
    {
      "cell_type": "code",
      "source": [],
      "metadata": {
        "id": "LZ4vboLvHi00"
      },
      "execution_count": null,
      "outputs": []
    },
    {
      "cell_type": "code",
      "source": [
        "##########################"
      ],
      "metadata": {
        "id": "3ObZOjkTHjwq"
      },
      "execution_count": null,
      "outputs": []
    },
    {
      "cell_type": "code",
      "source": [
        "@bot.message_handler(func=lambda message: True)\n",
        "def response(message):\n",
        "\n",
        "  response = pandas_ai.run(df, prompt=message.text)\n",
        "\n",
        "\n",
        "  bot.reply_to(message, response['Title'].to_string(index=False))"
      ],
      "metadata": {
        "id": "Pak4uyjKFThy"
      },
      "execution_count": null,
      "outputs": []
    },
    {
      "cell_type": "code",
      "source": [
        "bot.polling()"
      ],
      "metadata": {
        "id": "KB4oqlHSIvSb"
      },
      "execution_count": null,
      "outputs": []
    },
    {
      "cell_type": "code",
      "source": [],
      "metadata": {
        "id": "IsPUudqkXdld"
      },
      "execution_count": null,
      "outputs": []
    }
  ]
}